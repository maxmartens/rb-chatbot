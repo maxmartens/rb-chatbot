{
  "nbformat": 4,
  "nbformat_minor": 0,
  "metadata": {
    "colab": {
      "name": "2021-12-17.ipynb",
      "provenance": [],
      "collapsed_sections": [],
      "include_colab_link": true
    },
    "kernelspec": {
      "name": "python3",
      "display_name": "Python 3"
    },
    "language_info": {
      "name": "python"
    }
  },
  "cells": [
    {
      "cell_type": "markdown",
      "metadata": {
        "id": "view-in-github",
        "colab_type": "text"
      },
      "source": [
        "<a href=\"https://colab.research.google.com/github/maxmartens/rb-chatbot/blob/master/2021_12_17.ipynb\" target=\"_parent\"><img src=\"https://colab.research.google.com/assets/colab-badge.svg\" alt=\"Open In Colab\"/></a>"
      ]
    },
    {
      "cell_type": "markdown",
      "source": [
        "# Import necessary Libraries"
      ],
      "metadata": {
        "id": "apDIXI-Y4Po6"
      }
    },
    {
      "cell_type": "code",
      "execution_count": null,
      "metadata": {
        "colab": {
          "base_uri": "https://localhost:8080/"
        },
        "id": "nyf4i8EHt5R9",
        "outputId": "a6fb3ed4-c493-4604-b6df-ceace7eff3f4"
      },
      "outputs": [
        {
          "output_type": "stream",
          "name": "stdout",
          "text": [
            "[nltk_data] Downloading package punkt to /root/nltk_data...\n",
            "[nltk_data]   Package punkt is already up-to-date!\n"
          ]
        }
      ],
      "source": [
        "import nltk\n",
        "nltk.download('punkt')\n",
        "from nltk.stem import WordNetLemmatizer\n",
        "lemmatizer = WordNetLemmatizer()\n",
        "import json\n",
        "import re"
      ]
    },
    {
      "cell_type": "markdown",
      "source": [
        "# Define the structure"
      ],
      "metadata": {
        "id": "pOiPuHL1DElK"
      }
    },
    {
      "cell_type": "code",
      "source": [
        "words = []\n",
        "classes = []\n",
        "documents = []\n",
        "ignored_words = ['?', '!']\n",
        "data_file = open('intents.json').read()\n",
        "intents = json.loads(data_file)"
      ],
      "metadata": {
        "id": "apDGO-oWDEDi"
      },
      "execution_count": null,
      "outputs": []
    },
    {
      "cell_type": "markdown",
      "source": [
        "# Tokenizing"
      ],
      "metadata": {
        "id": "c46vGv4A4oWr"
      }
    },
    {
      "cell_type": "code",
      "source": [
        "for intent in intents['intents']:\n",
        "  for pattern in intent['patterns']:\n",
        "    \n",
        "    tokens = nltk.word_tokenize(pattern)\n",
        "    # for word in ignored_words:\n",
        "    #  if word in tokens:\n",
        "    #    tokens.remove(word)\n",
        "    words.extend(tokens)\n",
        "\n",
        "    documents.append((tokens, intent['tag']))\n",
        "\n",
        "    if intent['tag'] not in classes:\n",
        "      classes.append(intent['tag'])\n",
        "\n",
        "print(words)\n",
        "print(classes)\n",
        "print(documents)"
      ],
      "metadata": {
        "colab": {
          "base_uri": "https://localhost:8080/"
        },
        "id": "rG7dFrAK4ueK",
        "outputId": "0560e827-0a5a-40c6-aba0-84a84e8bb632"
      },
      "execution_count": null,
      "outputs": [
        {
          "output_type": "stream",
          "name": "stdout",
          "text": [
            "['Hi', 'there', 'How', 'are', 'you', 'Is', 'anyone', 'there', '?', 'Hey', 'Hola', 'Hello', 'Good', 'day', 'Bye', 'See', 'you', 'later', 'Goodbye', 'Nice', 'chatting', 'to', 'you', ',', 'bye', 'Till', 'next', 'time', 'Thanks', 'Thank', 'you', 'That', \"'s\", 'helpful', 'Awesome', ',', 'thanks', 'Thanks', 'for', 'helping', 'me', 'How', 'you', 'could', 'help', 'me', '?', 'What', 'you', 'can', 'do', '?', 'What', 'help', 'you', 'provide', '?', 'How', 'you', 'can', 'be', 'helpful', '?', 'What', 'support', 'is', 'offered', 'I', 'want', 'to', 'change', 'my', 'address', 'I', 'have', 'moved', 'My', 'new', 'address', 'is', 'I', 'have', 'changed', 'my', 'location', 'Hi', 'there', 'How', 'are', 'you', 'Is', 'anyone', 'there', '?', 'Hey', 'Hola', 'Hello', 'Good', 'day', 'Bye', 'See', 'you', 'later', 'Goodbye', 'Nice', 'chatting', 'to', 'you', ',', 'bye', 'Till', 'next', 'time', 'Thanks', 'Thank', 'you', 'That', \"'s\", 'helpful', 'Awesome', ',', 'thanks', 'Thanks', 'for', 'helping', 'me', 'How', 'you', 'could', 'help', 'me', '?', 'What', 'you', 'can', 'do', '?', 'What', 'help', 'you', 'provide', '?', 'How', 'you', 'can', 'be', 'helpful', '?', 'What', 'support', 'is', 'offered', 'I', 'want', 'to', 'change', 'my', 'address', 'I', 'have', 'moved', 'My', 'new', 'address', 'is', 'I', 'have', 'changed', 'my', 'location', 'Hi', 'there', 'How', 'are', 'you', 'Is', 'anyone', 'there', 'Hey', 'Hola', 'Hello', 'Good', 'day', 'Bye', 'See', 'you', 'later', 'Goodbye', 'Nice', 'chatting', 'to', 'you', ',', 'bye', 'Till', 'next', 'time', 'Thanks', 'Thank', 'you', 'That', \"'s\", 'helpful', 'Awesome', ',', 'thanks', 'Thanks', 'for', 'helping', 'me', 'How', 'you', 'could', 'help', 'me', 'What', 'you', 'can', 'do', 'What', 'help', 'you', 'provide', 'How', 'you', 'can', 'be', 'helpful', 'What', 'support', 'is', 'offered', 'I', 'want', 'to', 'change', 'my', 'address', 'I', 'have', 'moved', 'My', 'new', 'address', 'is', 'I', 'have', 'changed', 'my', 'location']\n",
            "['greeting', 'goodbye', 'thanks', 'options', 'change_address']\n",
            "[(['Hi', 'there'], 'greeting'), (['How', 'are', 'you'], 'greeting'), (['Is', 'anyone', 'there', '?'], 'greeting'), (['Hey'], 'greeting'), (['Hola'], 'greeting'), (['Hello'], 'greeting'), (['Good', 'day'], 'greeting'), (['Bye'], 'goodbye'), (['See', 'you', 'later'], 'goodbye'), (['Goodbye'], 'goodbye'), (['Nice', 'chatting', 'to', 'you', ',', 'bye'], 'goodbye'), (['Till', 'next', 'time'], 'goodbye'), (['Thanks'], 'thanks'), (['Thank', 'you'], 'thanks'), (['That', \"'s\", 'helpful'], 'thanks'), (['Awesome', ',', 'thanks'], 'thanks'), (['Thanks', 'for', 'helping', 'me'], 'thanks'), (['How', 'you', 'could', 'help', 'me', '?'], 'options'), (['What', 'you', 'can', 'do', '?'], 'options'), (['What', 'help', 'you', 'provide', '?'], 'options'), (['How', 'you', 'can', 'be', 'helpful', '?'], 'options'), (['What', 'support', 'is', 'offered'], 'options'), (['I', 'want', 'to', 'change', 'my', 'address'], 'change_address'), (['I', 'have', 'moved'], 'change_address'), (['My', 'new', 'address', 'is'], 'change_address'), (['I', 'have', 'changed', 'my', 'location'], 'change_address'), (['Hi', 'there'], 'greeting'), (['How', 'are', 'you'], 'greeting'), (['Is', 'anyone', 'there', '?'], 'greeting'), (['Hey'], 'greeting'), (['Hola'], 'greeting'), (['Hello'], 'greeting'), (['Good', 'day'], 'greeting'), (['Bye'], 'goodbye'), (['See', 'you', 'later'], 'goodbye'), (['Goodbye'], 'goodbye'), (['Nice', 'chatting', 'to', 'you', ',', 'bye'], 'goodbye'), (['Till', 'next', 'time'], 'goodbye'), (['Thanks'], 'thanks'), (['Thank', 'you'], 'thanks'), (['That', \"'s\", 'helpful'], 'thanks'), (['Awesome', ',', 'thanks'], 'thanks'), (['Thanks', 'for', 'helping', 'me'], 'thanks'), (['How', 'you', 'could', 'help', 'me', '?'], 'options'), (['What', 'you', 'can', 'do', '?'], 'options'), (['What', 'help', 'you', 'provide', '?'], 'options'), (['How', 'you', 'can', 'be', 'helpful', '?'], 'options'), (['What', 'support', 'is', 'offered'], 'options'), (['I', 'want', 'to', 'change', 'my', 'address'], 'change_address'), (['I', 'have', 'moved'], 'change_address'), (['My', 'new', 'address', 'is'], 'change_address'), (['I', 'have', 'changed', 'my', 'location'], 'change_address'), (['Hi', 'there'], 'greeting'), (['How', 'are', 'you'], 'greeting'), (['Is', 'anyone', 'there'], 'greeting'), (['Hey'], 'greeting'), (['Hola'], 'greeting'), (['Hello'], 'greeting'), (['Good', 'day'], 'greeting'), (['Bye'], 'goodbye'), (['See', 'you', 'later'], 'goodbye'), (['Goodbye'], 'goodbye'), (['Nice', 'chatting', 'to', 'you', ',', 'bye'], 'goodbye'), (['Till', 'next', 'time'], 'goodbye'), (['Thanks'], 'thanks'), (['Thank', 'you'], 'thanks'), (['That', \"'s\", 'helpful'], 'thanks'), (['Awesome', ',', 'thanks'], 'thanks'), (['Thanks', 'for', 'helping', 'me'], 'thanks'), (['How', 'you', 'could', 'help', 'me'], 'options'), (['What', 'you', 'can', 'do'], 'options'), (['What', 'help', 'you', 'provide'], 'options'), (['How', 'you', 'can', 'be', 'helpful'], 'options'), (['What', 'support', 'is', 'offered'], 'options'), (['I', 'want', 'to', 'change', 'my', 'address'], 'change_address'), (['I', 'have', 'moved'], 'change_address'), (['My', 'new', 'address', 'is'], 'change_address'), (['I', 'have', 'changed', 'my', 'location'], 'change_address')]\n"
          ]
        }
      ]
    },
    {
      "cell_type": "markdown",
      "source": [
        "Test"
      ],
      "metadata": {
        "id": "4knF6pFjH3vX"
      }
    },
    {
      "cell_type": "code",
      "source": [
        "flag=True\n",
        "chatbotname = \"Bo\"\n",
        "\n",
        "# read students\n",
        "\n",
        "print(chatbotname + \": My name is \" + chatbotname + \". \" \n",
        "      + \"Please enter you matriculation number, so I can help you.\")\n",
        "matriculation = input()\n",
        "# check for matnr in students\n",
        "# continue if valid, exit or loop if invalid.\n",
        "\n",
        "while(flag==True):\n",
        "  user_response = input()\n",
        "  user_response = user_response.lower()\n",
        "  if(user_response != 'bye'):\n",
        "    if(user_response=='thanks' or user_response=='thank you') :\n",
        "      flag=False\n",
        "      print(Chatbotname + \": Happy to help! \")\n",
        "  else:\n",
        "    flag=False\n",
        "    print(Chatbotname + \": Happy to Help you\")"
      ],
      "metadata": {
        "id": "bYfiCAANH4oi",
        "colab": {
          "base_uri": "https://localhost:8080/"
        },
        "outputId": "45e9a041-5935-48cd-bedb-de637f2f11e8"
      },
      "execution_count": null,
      "outputs": [
        {
          "output_type": "stream",
          "name": "stdout",
          "text": [
            "Bo: My name is Bo. How can i help you today?\n",
            "gar nicht\n",
            "o\n",
            "k\n",
            "ciao\n",
            "bb\n",
            "thx you\n",
            "tanks\n",
            "thanks\n",
            "Bo: Happy to help! \n"
          ]
        }
      ]
    }
  ]
}